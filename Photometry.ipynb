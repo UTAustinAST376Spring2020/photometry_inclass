{
 "cells": [
  {
   "cell_type": "markdown",
   "metadata": {},
   "source": [
    "# This notebook gives examples of measuring centroids and doing photometry, both with PhotUtils and Source Extractor.  It is designed as a demo, and will not be collected."
   ]
  },
  {
   "cell_type": "markdown",
   "metadata": {},
   "source": [
    "## Part 1: Calculating Centroids"
   ]
  },
  {
   "cell_type": "code",
   "execution_count": null,
   "metadata": {},
   "outputs": [],
   "source": [
    "import numpy as np\n",
    "from astropy.convolution import AiryDisk2DKernel\n",
    "import matplotlib.pyplot as plt"
   ]
  },
  {
   "cell_type": "markdown",
   "metadata": {},
   "source": [
    "Let's define a source as an Airy Disk, and put it in a 101x101 pixel image.\n",
    "\n",
    "We'll choose a \"radius\" of 5 pixels (this is the distance from the center to the first negative)."
   ]
  },
  {
   "cell_type": "code",
   "execution_count": null,
   "metadata": {},
   "outputs": [],
   "source": [
    "source=np.array(AiryDisk2DKernel(5,x_size=31,y_size=31))\n",
    "source=source/np.sum(source)*1000.0  #Normalize the total flux of the source to 1000\n",
    "\n",
    "image=np.zeros([101,101])\n",
    "image[50:81,10:41]=source  #y,x, note y starts from top\n",
    "image=image+1.0 #Lets add a sky background of 2 e-\n",
    "image=np.random.poisson(image)  #Sample the image with Poisson noise\n",
    "image=image+np.random.normal(0.0,1.0,[101,101])  #Add a read noise of 1 e-"
   ]
  },
  {
   "cell_type": "code",
   "execution_count": null,
   "metadata": {
    "scrolled": true
   },
   "outputs": [],
   "source": [
    "#Display the image\n",
    "#Make sure the source looks like you expected\n",
    "\n",
    "plt.figure()\n",
    "plt.imshow(image,vmin=0,vmax=0.5*np.max(image))\n",
    "plt.colorbar()\n",
    "plt.tight_layout()"
   ]
  },
  {
   "cell_type": "markdown",
   "metadata": {},
   "source": [
    "Lets first measure the centroids manually by calculating the marginalized distribution of the PSF on each axis.\n",
    "\n",
    "This is the first set of equations on slide 4 of the lecture slides.\n",
    "\n",
    "First, lets collapse in the y-direction to find the x centroid.\n",
    "\n",
    "(We will sum over the full image since we only have one source, but if you had >1, you would have to narrow down the sum range to stick to the region near your source.)"
   ]
  },
  {
   "cell_type": "code",
   "execution_count": null,
   "metadata": {},
   "outputs": [],
   "source": [
    "x_marg=np.zeros(101)  #Define an empty array to store our marginalized array\n",
    "for i in range(101):  #Loop over the x pixels, summing all pixels in the y-direction\n",
    "    x_marg[i]=np.sum(image[:,i])\n",
    "#Then do the same in the y-direction\n",
    "y_marg=np.zeros(101)\n",
    "for j in range(101):\n",
    "    y_marg[j]=np.sum(image[j,:])\n",
    "    \n",
    "#Make a plot to look at these marginalized distributions\n",
    "plt.figure()\n",
    "plt.plot(np.arange(101),x_marg,'blue',label='x')\n",
    "plt.plot(np.arange(101),y_marg,'red',label='y')\n",
    "plt.legend()\n",
    "plt.tight_layout()"
   ]
  },
  {
   "cell_type": "markdown",
   "metadata": {},
   "source": [
    "Ok, I see the peak in x is around 25, and in y is around 65.  \n",
    "Is this what we would expect from how we defined the image?"
   ]
  },
  {
   "cell_type": "markdown",
   "metadata": {},
   "source": [
    "### Now, lets try a more accurate calculation, which is the intensity weighted centroid.  \n",
    "First, we need to calculate the mean intensity in each direction as the total of the marginalized distributions, divided by the number of pixels you're averaging over.  This is the second set of equations on slide 4 of the lecture slides.  \n",
    "We'll make use of the x_marg and y_marg variables we calculated above, as they are the sums in the equations, which is the same for this calculation."
   ]
  },
  {
   "cell_type": "code",
   "execution_count": null,
   "metadata": {},
   "outputs": [],
   "source": [
    "n_pix=(len(x_marg)-1.)/2.\n",
    "x_mean=(1/(2*n_pix+1))*np.sum(x_marg)  \n",
    "y_mean=(1/(2*n_pix+1))*np.sum(y_marg)  "
   ]
  },
  {
   "cell_type": "markdown",
   "metadata": {},
   "source": [
    "Finally, calculate the intensity-weighted centroid."
   ]
  },
  {
   "cell_type": "code",
   "execution_count": null,
   "metadata": {},
   "outputs": [],
   "source": [
    "xarr=np.arange(101) ; yarr=np.arange(101)  #Set up an integer array of x and y values\n",
    "#Calculate the argument x(y)_marg-x(y)_mean, set minimum to zero\n",
    "xsum=x_marg-x_mean ; xsum=xsum.clip(min=0)\n",
    "ysum=y_marg-y_mean ; ysum=ysum.clip(min=0)\n",
    "\n",
    "#Evaluate the intensity-weighted centroid\n",
    "xcen=np.sum((xsum)*xarr)/np.sum((xsum))\n",
    "ycen=np.sum((ysum)*yarr)/np.sum((ysum))\n",
    "\n",
    "#Print the x and y centers, and compare to your plot above - do they look right?  If not, why not?\n",
    "print(xcen,ycen)"
   ]
  },
  {
   "cell_type": "markdown",
   "metadata": {},
   "source": [
    "Measure centroids using three different canned routines, verify they agree with manual. You may need to pip install photutils. You can ignore the deprecation warnings."
   ]
  },
  {
   "cell_type": "code",
   "execution_count": null,
   "metadata": {},
   "outputs": [],
   "source": [
    "from photutils import centroid_com, centroid_1dg, centroid_2dg"
   ]
  },
  {
   "cell_type": "code",
   "execution_count": null,
   "metadata": {},
   "outputs": [],
   "source": [
    "x, y = centroid_com(image)    #This is the moment distribution, like we did above\n",
    "x2, y2 = centroid_1dg(image)  #This fits a Gaussian separtely in the x and y directions\n",
    "x3, y3 = centroid_2dg(image)  #This fits a 2D Gaussian to the full image\n",
    "\n",
    "#Print all three values; do they agree with your calculated version?\n",
    "print(x,y)\n",
    "print(x2,y2)\n",
    "print(x3,y3)"
   ]
  },
  {
   "cell_type": "markdown",
   "metadata": {},
   "source": [
    "## Part 2: Aperture Photometry"
   ]
  },
  {
   "cell_type": "code",
   "execution_count": null,
   "metadata": {},
   "outputs": [],
   "source": [
    "#Perform aperture photometry at the position calculated above\n",
    "\n",
    "from photutils import CircularAperture\n",
    "from photutils import aperture_photometry"
   ]
  },
  {
   "cell_type": "code",
   "execution_count": null,
   "metadata": {},
   "outputs": [],
   "source": [
    "positions = (x3,y3) #Set the centroid of our source using the most accurate value from above\n",
    "apertures = CircularAperture(positions, r=5.)  #Use an aperture with r=5 pixels (~FWHM)\n",
    "\n",
    "phot_table = aperture_photometry(image, apertures) #Do the actual aperture photometry\n",
    "print(phot_table) \n"
   ]
  },
  {
   "cell_type": "markdown",
   "metadata": {},
   "source": [
    "This prints our results, showing the source number, x and y position, and the photometry measure.\n",
    "\n",
    "If we wanted just the actual photometric value, this is stored in: phot_table['aperture_sum']"
   ]
  },
  {
   "cell_type": "code",
   "execution_count": null,
   "metadata": {},
   "outputs": [],
   "source": [
    "#Perform photometry in annulus around the position above\n",
    "from photutils import CircularAnnulus"
   ]
  },
  {
   "cell_type": "code",
   "execution_count": null,
   "metadata": {},
   "outputs": [],
   "source": [
    "#First, define an annulus - r_in and r_out set position of annulus\n",
    "annulus_apertures = CircularAnnulus(positions, r_in=8., r_out=10.)\n",
    "#Measure the flux in the annulus\n",
    "annulus_table = aperture_photometry(image, annulus_apertures)\n",
    "print(annulus_table)"
   ]
  },
  {
   "cell_type": "markdown",
   "metadata": {},
   "source": [
    "Efficiency tool - we can actually measure thre flux in our aperture and in the annulus at the same time"
   ]
  },
  {
   "cell_type": "code",
   "execution_count": null,
   "metadata": {},
   "outputs": [],
   "source": [
    "\n",
    "apers=[apertures,annulus_apertures]  #Define a list of apertures; first is science, second is background annulus\n",
    "final_table = aperture_photometry(image, apers)\n",
    "print(final_table)\n"
   ]
  },
  {
   "cell_type": "markdown",
   "metadata": {},
   "source": [
    "Now, final_table['aperture_sum_0'] is the flux of our source of interest, and\n",
    "    final_table['aperture_sum_1'] is the *total* flux in our annulus.\n",
    "    \n",
    "Finally, to get the flux of our source, we need to calculate the background per pixel, and subtract it.\n",
    "\n",
    "Background in counts/pix=annulus flux divided by npix in annulus - we can use the attribute \"area\", i.e. annulus_apertures.area()"
   ]
  },
  {
   "cell_type": "code",
   "execution_count": null,
   "metadata": {},
   "outputs": [],
   "source": [
    "bkg_mean = float(final_table['aperture_sum_1'][0]) / annulus_apertures.area()\n",
    "bkg_sum = bkg_mean * apertures.area()  #Total background in our science aperture\n",
    "final_sum = final_table['aperture_sum_0'][0] - bkg_sum  #Do background subtraction\n",
    "final_table['Final_aperture_flux'] = final_sum  #Add column to table with this final flux\n",
    "print(final_table)"
   ]
  },
  {
   "cell_type": "markdown",
   "metadata": {},
   "source": [
    "final_table['Final_aperture_flux'] is our final flux measurement, which can be used for science."
   ]
  },
  {
   "cell_type": "markdown",
   "metadata": {},
   "source": [
    "## Part 3: Source Extractor\n",
    "### In class, we showed how to take a reduced 30\" CCD image, add world coordinate system (WCS) to the header via astrometry.net, and how to make a catalog with Source Extractor.  Here, we will read in this catalog, and figure out how to calculate the fluxes of objects in physical units (e.g., erg/s/cm2/Hz), which requires calculating a magnitude zeropoint."
   ]
  },
  {
   "cell_type": "code",
   "execution_count": null,
   "metadata": {},
   "outputs": [],
   "source": [
    "#Read in catalog - ascii automagically figures out its a Source Extractor Catalog\n",
    "from astropy.io import ascii\n",
    "cat=ascii.read('qatar1_r.cat')"
   ]
  },
  {
   "cell_type": "code",
   "execution_count": null,
   "metadata": {
    "scrolled": true
   },
   "outputs": [],
   "source": [
    "#View the catalog\n",
    "cat"
   ]
  },
  {
   "cell_type": "code",
   "execution_count": null,
   "metadata": {},
   "outputs": [],
   "source": [
    "#Examine the spatial distribution of my detected sources.  Any obvious problem?\n",
    "ra=np.array(cat['ALPHA_J2000'])\n",
    "dec=np.array(cat['DELTA_J2000'])\n",
    "plt.figure()\n",
    "plt.scatter(ra,dec,c='red',marker='.',s=0.1)\n",
    "plt.tight_layout()"
   ]
  },
  {
   "cell_type": "markdown",
   "metadata": {},
   "source": [
    "Let's check out a magnitude histogram, using FLUX_AUTO, which is the flux in counts measured in the MAG_AUTO elliptical aperture.\n",
    "\n",
    "Before turning into a magnitude, we need to search for negative flux values, which will cause problems since magnitude is on a log scale (negative pixels are just noise anyway).\n",
    "    \n",
    "    \n",
    "I set them to tiny tiny numbers, which will make a large magnitude, easily flagged later."
   ]
  },
  {
   "cell_type": "code",
   "execution_count": null,
   "metadata": {},
   "outputs": [],
   "source": [
    "flux=np.array(cat['FLUX_AUTO'])\n",
    "\n",
    "g=np.where(flux < 0.0) ; flux[g]=1e-30\n",
    "mag=(-2.5)*np.log10(flux)\n",
    "plt.figure()\n",
    "plt.hist(mag,bins=30,range=[-20,0])\n",
    "plt.tight_layout(); plt.show(); plt.close()\n",
    "#This histogram shows our object's *instrumental* magnitudes"
   ]
  },
  {
   "cell_type": "markdown",
   "metadata": {},
   "source": [
    "We need to find a zeropoint for our image.  To do this, lets match to the PAN-STAARS r-band"
   ]
  },
  {
   "cell_type": "code",
   "execution_count": null,
   "metadata": {},
   "outputs": [],
   "source": [
    "#Import some stuff - you may need to pip install astroquery\n",
    "from astropy.coordinates import SkyCoord\n",
    "import astropy.units as u\n",
    "from astroquery.vizier import Vizier\n",
    "from astropy.utils.console import ProgressBar"
   ]
  },
  {
   "cell_type": "code",
   "execution_count": null,
   "metadata": {},
   "outputs": [],
   "source": [
    "#Define the columns I would like to get back from Vizier\n",
    "v = Vizier(columns=['RAJ2000', 'DEJ2000','umag', 'gmag', 'rmag','imag'])"
   ]
  },
  {
   "cell_type": "markdown",
   "metadata": {},
   "source": [
    "I need to do this in a loop, over each object in my catalog.\n",
    "This would take forever, so lets just do the first 200 objects."
   ]
  },
  {
   "cell_type": "code",
   "execution_count": null,
   "metadata": {},
   "outputs": [],
   "source": [
    "\n",
    "ps_rmag=np.zeros(len(ra)) # An empty array to fill with the PS (Pan-STAARS) r-band magnitude for my 200 objects\n",
    "n=200 #or len(ra) for full catalog\n",
    "\n",
    "for i in range(n):\n",
    "    pos = SkyCoord(ra[i]*u.deg,dec[i]*u.deg,frame='icrs') #Make a SkyCoord object for index i of my list of 200 stars\n",
    "    result=v.query_region(pos,width=\"60s\",catalog='panstaars')  #Query Vizier for sources within 60 arcsec of this position\n",
    "    #At this point, I have a lot of sources, since many will be within 60\"\n",
    "    #I only want the closest one, so I need to measure the angular distance\n",
    "    dist=np.zeros(len(result[0]['rmag']))  #Set up an empty distance array\n",
    "    tra=np.array(result[0]['RAJ2000'])  #Make a variable for the PS RA\n",
    "    tdec=np.array(result[0]['DEJ2000'])  #Make a variable for the PS Dec\n",
    "    for j in range(len(dist)): #Run a loop over the PS objects to measure the distance\n",
    "        tobj=SkyCoord(tra[j]*u.deg,tdec[j]*u.deg,frame='icrs')\n",
    "        dist[j]=tobj.separation(pos).arcsec\n",
    "    #Now I have the measured distances.  I want the closest one, but only if its close enough I'm sure its the same object\n",
    "    #I'll be a little liberal, and assume I've found the closest one if its at < 10\"\n",
    "    g=np.where((dist <= 10.0) & (dist==np.min(dist)))\n",
    "    if len(g[0]) > 0: #If there is a match within 10\", then put the PS r-band magnitude in my array\n",
    "        ps_rmag[i]=float(result[0]['rmag'][g])\n",
    "    else: #If there is no match, set the mag to some crazy value nowhere near a real value\n",
    "        ps_rmag[i]=-99\n",
    "#This will throw some warnings; its ok"
   ]
  },
  {
   "cell_type": "code",
   "execution_count": null,
   "metadata": {},
   "outputs": [],
   "source": [
    "#Now lets compare the PS r-band magnitudes to our instrumental magnitudes\n",
    "g=np.where(ps_rmag > 0)  #Only consider objects where I found a match\n",
    "plt.figure()\n",
    "plt.scatter(ps_rmag[g],ps_rmag[g]-mag[g],c='red',marker='.',s=0.5)\n",
    "plt.xlim(10,25)\n",
    "plt.ylim(23,29)\n",
    "plt.tight_layout()"
   ]
  },
  {
   "cell_type": "markdown",
   "metadata": {},
   "source": [
    "We see a pretty good correlation!\n",
    "The median of the y-axis value is then our zeropoint!\n",
    "To make sure we only use pretty good values to calculate that zeropoint, let's\n",
    "calculate the median in a box surrounding the nice sequence."
   ]
  },
  {
   "cell_type": "code",
   "execution_count": null,
   "metadata": {},
   "outputs": [],
   "source": [
    "\n",
    "g2=np.where((ps_rmag > 14) & (ps_rmag < 17.5) & ((ps_rmag-mag) >= 25.5) & ((ps_rmag-mag) <= 26.5))\n",
    "\n",
    "zp=np.nanmedian(ps_rmag[g2]-mag[g2])\n",
    "plt.figure()\n",
    "plt.scatter(ps_rmag[g],ps_rmag[g]-mag[g],c='red',marker='.',s=0.5)\n",
    "plt.axhline(y=zp, color='b', linestyle='-')\n",
    "plt.xlim(10,25)\n",
    "plt.ylim(23,29)\n",
    "plt.tight_layout()"
   ]
  },
  {
   "cell_type": "markdown",
   "metadata": {},
   "source": [
    "The blue line shows our zeropoint, pretty good!\n",
    "Let's print the value"
   ]
  },
  {
   "cell_type": "code",
   "execution_count": null,
   "metadata": {},
   "outputs": [],
   "source": [
    "zp"
   ]
  },
  {
   "cell_type": "markdown",
   "metadata": {},
   "source": [
    "## We can now obtain fluxes in cgs units for our sources.  We have two equations which define AB magnitude:\n",
    "\n",
    "$$m_{\\rm AB} = (-2.5)*\\rm log_{10}(flux [counts]) + ZP$$\n",
    "##### and\n",
    "$$ m_{\\rm AB} = (-2.5)*\\rm log_{10}(flux [cgs]) - 48.6 $$\n",
    "\n",
    "\n",
    "##### where \"m_ab\" is the AB magnitude, flux[counts] is the flux measured from the image, ZP is the zeropoint we measured above, and flux[cgs] is the quantity we want - the flux density in units of erg/s/cm2/Hz\n",
    "##### Solve these two equations to obtain flux[cgs] in units of flux[counts], and you should get something like what is in the cell below"
   ]
  },
  {
   "cell_type": "code",
   "execution_count": null,
   "metadata": {},
   "outputs": [],
   "source": [
    "#Calculate the flux in cgs units in the r-band (I'll call this fnu)\n",
    "fnu=np.array(cat['FLUX_AUTO'])*10.**(-0.4*48.6 - 0.4*zp)"
   ]
  },
  {
   "cell_type": "code",
   "execution_count": null,
   "metadata": {},
   "outputs": [],
   "source": [
    "#Lets plot a histogram of our AB magnitudes, and see how it looks\n",
    "m_ab=(-2.5)*np.log10(fnu)-48.6\n",
    "\n",
    "#This will throw a warning due to log(negative number), but thats ok for this plotting purpose\n",
    "plt.figure()\n",
    "plt.hist(m_ab,bins=30,range=[15,22])\n",
    "plt.xlabel('AB Magnitude') ; plt.ylabel('Number')\n",
    "plt.tight_layout()"
   ]
  },
  {
   "cell_type": "code",
   "execution_count": null,
   "metadata": {},
   "outputs": [],
   "source": []
  }
 ],
 "metadata": {
  "kernelspec": {
   "display_name": "Python 3",
   "language": "python",
   "name": "python3"
  },
  "language_info": {
   "codemirror_mode": {
    "name": "ipython",
    "version": 3
   },
   "file_extension": ".py",
   "mimetype": "text/x-python",
   "name": "python",
   "nbconvert_exporter": "python",
   "pygments_lexer": "ipython3",
   "version": "3.5.4"
  }
 },
 "nbformat": 4,
 "nbformat_minor": 2
}
